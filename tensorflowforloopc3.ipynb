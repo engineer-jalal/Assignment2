{
  "nbformat": 4,
  "nbformat_minor": 0,
  "metadata": {
    "colab": {
      "name": "Untitled1.ipynb",
      "provenance": [],
      "authorship_tag": "ABX9TyOXAzKvWKB3rmzSo675vpql",
      "include_colab_link": true
    },
    "kernelspec": {
      "name": "python3",
      "display_name": "Python 3"
    },
    "language_info": {
      "name": "python"
    }
  },
  "cells": [
    {
      "cell_type": "markdown",
      "metadata": {
        "id": "view-in-github",
        "colab_type": "text"
      },
      "source": [
        "<a href=\"https://colab.research.google.com/github/engineer-jalal/Assignment2/blob/main/tensorflowforloopc3.ipynb\" target=\"_parent\"><img src=\"https://colab.research.google.com/assets/colab-badge.svg\" alt=\"Open In Colab\"/></a>"
      ]
    },
    {
      "cell_type": "code",
      "execution_count": 22,
      "metadata": {
        "id": "f_gsvuupLUYP"
      },
      "outputs": [],
      "source": [
        "import numpy as np\n",
        "import tensorflow as tf\n",
        "result=tf.Variable(np.zeros([10],dtype=np.int32))"
      ]
    },
    {
      "cell_type": "code",
      "source": [
        "def run():\n",
        " i = tf.constant(0,dtype=tf.int32)\n",
        " while tf.less_equal(i,9):\n",
        "   result[i].assign(i)\n",
        " i+=1\n"
      ],
      "metadata": {
        "id": "H61rUcipOXNT"
      },
      "execution_count": 23,
      "outputs": []
    },
    {
      "cell_type": "code",
      "source": [
        "result"
      ],
      "metadata": {
        "colab": {
          "base_uri": "https://localhost:8080/"
        },
        "id": "7UB35BHJQt0a",
        "outputId": "3786d6ee-65bd-4c32-996a-15ac119e6032"
      },
      "execution_count": 24,
      "outputs": [
        {
          "output_type": "execute_result",
          "data": {
            "text/plain": [
              "<tf.Variable 'Variable:0' shape=(10,) dtype=int32, numpy=array([0, 0, 0, 0, 0, 0, 0, 0, 0, 0], dtype=int32)>"
            ]
          },
          "metadata": {},
          "execution_count": 24
        }
      ]
    },
    {
      "cell_type": "code",
      "source": [
        ""
      ],
      "metadata": {
        "id": "INn5Hr4HRzhi"
      },
      "execution_count": null,
      "outputs": []
    }
  ]
}