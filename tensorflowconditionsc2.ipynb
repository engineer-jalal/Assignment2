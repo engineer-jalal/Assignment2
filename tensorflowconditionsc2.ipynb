{
  "nbformat": 4,
  "nbformat_minor": 0,
  "metadata": {
    "colab": {
      "name": "Copy of Untitled0.ipynb",
      "provenance": [],
      "collapsed_sections": [],
      "authorship_tag": "ABX9TyO3jgH8QSaH1bADHYiroWC7",
      "include_colab_link": true
    },
    "kernelspec": {
      "name": "python3",
      "display_name": "Python 3"
    },
    "language_info": {
      "name": "python"
    }
  },
  "cells": [
    {
      "cell_type": "markdown",
      "metadata": {
        "id": "view-in-github",
        "colab_type": "text"
      },
      "source": [
        "<a href=\"https://colab.research.google.com/github/engineer-jalal/Assignment2/blob/main/tensorflowconditionsc2.ipynb\" target=\"_parent\"><img src=\"https://colab.research.google.com/assets/colab-badge.svg\" alt=\"Open In Colab\"/></a>"
      ]
    },
    {
      "cell_type": "code",
      "execution_count": 5,
      "metadata": {
        "id": "1nRON6opEk7v"
      },
      "outputs": [],
      "source": [
        "import tensorflow as tf\n",
        "d= tf.constant(55)\n",
        "e= tf.constant(45)\n",
        "def f1():return tf.constant(d)\n",
        "def f2():return tf.constant(e)\n",
        "f=tf.cond(tf.less(d,e),f1,f2)\n"
      ]
    },
    {
      "cell_type": "code",
      "source": [
        "f.numpy"
      ],
      "metadata": {
        "id": "a4xt2smME0dc",
        "colab": {
          "base_uri": "https://localhost:8080/"
        },
        "outputId": "55d44acb-d6aa-4650-ab38-5f171b6507ce"
      },
      "execution_count": 6,
      "outputs": [
        {
          "output_type": "execute_result",
          "data": {
            "text/plain": [
              "<bound method _EagerTensorBase.numpy of <tf.Tensor: shape=(), dtype=int32, numpy=45>>"
            ]
          },
          "metadata": {},
          "execution_count": 6
        }
      ]
    },
    {
      "cell_type": "code",
      "source": [
        ""
      ],
      "metadata": {
        "id": "oJzIsL1hNaD6"
      },
      "execution_count": null,
      "outputs": []
    }
  ]
}